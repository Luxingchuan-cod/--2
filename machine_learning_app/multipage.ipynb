{
 "cells": [
  {
   "cell_type": "code",
   "execution_count": 1,
   "id": "97dfd332-724b-4f2c-8e15-b8fda670cb04",
   "metadata": {},
   "outputs": [],
   "source": [
    "import streamlit as st\n",
    "\n",
    "class MultiPage:\n",
    "    \"\"\"Framework for combining multiple streamlit applications.\"\"\"\n",
    "    def __init__(self):\n",
    "        self.pages = []\n",
    "    \n",
    "    def add_page(self, title, func):\n",
    "        self.pages.append({\n",
    "            'title': title,\n",
    "            'function': func\n",
    "        })\n",
    "    \n",
    "    def run(self):\n",
    "        page = st.sidebar.selectbox(\n",
    "            'app navigation', \n",
    "            self.pages,\n",
    "            format_func=lambda page: page['title']\n",
    "        )\n",
    "        page['function']()"
   ]
  }
 ],
 "metadata": {
  "kernelspec": {
   "display_name": "Python 3 (ipykernel)",
   "language": "python",
   "name": "python3"
  },
  "language_info": {
   "codemirror_mode": {
    "name": "ipython",
    "version": 3
   },
   "file_extension": ".py",
   "mimetype": "text/x-python",
   "name": "python",
   "nbconvert_exporter": "python",
   "pygments_lexer": "ipython3",
   "version": "3.12.7"
  }
 },
 "nbformat": 4,
 "nbformat_minor": 5
}
